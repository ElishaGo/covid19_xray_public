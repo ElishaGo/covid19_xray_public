{
 "cells": [
  {
   "cell_type": "code",
   "execution_count": null,
   "metadata": {},
   "outputs": [],
   "source": [
    "from sklearn.model_selection import train_test_split"
   ]
  },
  {
   "cell_type": "code",
   "execution_count": 2,
   "metadata": {
    "colab": {
     "base_uri": "https://localhost:8080/",
     "height": 34
    },
    "colab_type": "code",
    "id": "T8hHk2eBGP5G",
    "outputId": "4b9eb423-d115-4925-fea9-d94aaa346b99"
   },
   "outputs": [
    {
     "name": "stdout",
     "output_type": "stream",
     "text": [
      "(670, 256, 256, 1) (172, 256, 256, 1) (670, 256, 256, 3) (172, 256, 256, 3)\n"
     ]
    }
   ],
   "source": [
    "images, labels = get_data() # load data however works for you \n",
    "\n",
    "(train_x, test_x, train_y, test_y) = train_test_split(images, labels, test_size=0.20)\n",
    "(x_train, y_train, x_val, y_val) = train_test_split(images, labels, test_size=0.20)\n",
    "\n",
    "print(x_train.shape, x_val.shape, x_test.shape, y_train.shape, y_val.shape, y_test.shape)"
   ]
  },
  {
   "cell_type": "code",
   "execution_count": null,
   "metadata": {
    "colab": {
     "base_uri": "https://localhost:8080/",
     "height": 1000
    },
    "colab_type": "code",
    "id": "mMi4n3GM2LUE",
    "outputId": "8729282b-3af4-4fd7-dc36-327677dbeb23"
   },
   "outputs": [],
   "source": [
    "config = {\n",
    "    'model_type': 'unet',\n",
    "    'backbone': 'resnet34',\n",
    "    'pretrained': 'imagenet',\n",
    "    'loss_type': 'categorical_crossentropy',\n",
    "    'learning_rate': 1e-4,\n",
    "    'early_stopping_patience': 44,\n",
    "    'batch_size': 16,\n",
    "    'epochs': 222\n",
    "}\n",
    "model = train_model(config, x_train, y_train, x_val, y_val)\n",
    "score_model(model, x_test, y_test)"
   ]
  }
 ],
 "metadata": {
  "accelerator": "GPU",
  "colab": {
   "name": "train.ipynb",
   "provenance": []
  },
  "kernelspec": {
   "display_name": "Python 3",
   "language": "python",
   "name": "python3"
  },
  "language_info": {
   "codemirror_mode": {
    "name": "ipython",
    "version": 3
   },
   "file_extension": ".py",
   "mimetype": "text/x-python",
   "name": "python",
   "nbconvert_exporter": "python",
   "pygments_lexer": "ipython3",
   "version": "3.6.8"
  }
 },
 "nbformat": 4,
 "nbformat_minor": 1
}
